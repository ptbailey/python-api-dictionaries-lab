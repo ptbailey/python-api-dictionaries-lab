{
 "cells": [
  {
   "cell_type": "markdown",
   "metadata": {},
   "source": [
    "# API Exercises"
   ]
  },
  {
   "cell_type": "markdown",
   "metadata": {},
   "source": [
    "Here are two exercises that involve working with APIs and dictionaries.\n",
    "\n",
    "One is using the Open Brewery API found at https://www.openbrewerydb.org/, and the other is using the API for UK Police Data, found at https://data.police.uk/docs/.\n",
    "\n",
    "You can complete them in either order!\n",
    "\n",
    "Remember that you can create new cells with esc + a or b"
   ]
  },
  {
   "cell_type": "markdown",
   "metadata": {},
   "source": [
    "## Breweries"
   ]
  },
  {
   "cell_type": "markdown",
   "metadata": {},
   "source": [
    "### Q1: Load the first page of results with 50 results per page"
   ]
  },
  {
   "cell_type": "code",
   "execution_count": 373,
   "metadata": {},
   "outputs": [],
   "source": [
    "import json\n",
    "import requests\n",
    "url = 'https://api.openbrewerydb.org/breweries?page=1&per_page=50'\n",
    "url_api = requests.get(url).json()\n",
    "url_api;"
   ]
  },
  {
   "cell_type": "markdown",
   "metadata": {},
   "source": [
    "### Q2: This is only the first 50 results.  Get the next 50 and put them together."
   ]
  },
  {
   "cell_type": "code",
   "execution_count": 374,
   "metadata": {},
   "outputs": [],
   "source": [
    "import json\n",
    "import requests\n",
    "url_nextpage = 'https://api.openbrewerydb.org/breweries?page=2&per_page=100' #change page 1 to 2\n",
    "url_api2 = requests.get(url_nextpage).json()\n",
    "brewery_list = url_api + url_api2\n",
    "brewery_list;"
   ]
  },
  {
   "cell_type": "code",
   "execution_count": 293,
   "metadata": {},
   "outputs": [
    {
     "data": {
      "text/plain": [
       "'Avondale Brewing Co'"
      ]
     },
     "execution_count": 293,
     "metadata": {},
     "output_type": "execute_result"
    }
   ],
   "source": [
    "brewery_list[0]['name']"
   ]
  },
  {
   "cell_type": "markdown",
   "metadata": {},
   "source": [
    "### Q3: How many of these 100 breweries in are in Alaska?"
   ]
  },
  {
   "cell_type": "code",
   "execution_count": 294,
   "metadata": {},
   "outputs": [
    {
     "data": {
      "text/plain": [
       "3"
      ]
     },
     "execution_count": 294,
     "metadata": {},
     "output_type": "execute_result"
    }
   ],
   "source": [
    "len(list(filter(lambda brewery: brewery['state'] == 'Alaska', brewery_list)))"
   ]
  },
  {
   "cell_type": "markdown",
   "metadata": {},
   "source": [
    "### Q4: Of these 100 breweries, what are the different unique brewery types?"
   ]
  },
  {
   "cell_type": "code",
   "execution_count": 295,
   "metadata": {},
   "outputs": [
    {
     "data": {
      "text/plain": [
       "{'brewpub', 'contract', 'micro', 'planning', 'proprietor', 'regional'}"
      ]
     },
     "execution_count": 295,
     "metadata": {},
     "output_type": "execute_result"
    }
   ],
   "source": [
    "set(list(map(lambda brewery: brewery['brewery_type'], brewery_list)))\n"
   ]
  },
  {
   "cell_type": "markdown",
   "metadata": {},
   "source": [
    "### Q5: What is the closest brewery to \"Devil's Potion Brewing Company LLC\" ?\n",
    "* Hint 1: Use Euclidian distance w/ longitude and latitude (assume longitude and latitude are a Carteisan coordinate system)\n",
    "* Hint 2: You'll have to ignore the entries with \"none\" for latitude or longitude"
   ]
  },
  {
   "cell_type": "code",
   "execution_count": 297,
   "metadata": {},
   "outputs": [
    {
     "data": {
      "text/plain": [
       "'Port Brewing Co / The Lost Abbey'"
      ]
     },
     "execution_count": 297,
     "metadata": {},
     "output_type": "execute_result"
    }
   ],
   "source": [
    "import math\n",
    "\n",
    "my_brewery_1 = list(filter(lambda brewery: brewery['name'] == \"Devil's Potion Brewing Company LLC\", brewery_list))\n",
    "my_brewery = my_brewery_1.pop()\n",
    "my_y = float(my_brewery['longitude'])\n",
    "my_x = float(my_brewery['latitude'])\n",
    "\n",
    "no_nones_long = list(filter(lambda brewery: brewery['longitude'] != None, brewery_list))\n",
    "list_long = list(map(lambda brewery: float(brewery['longitude']), no_nones_long))\n",
    "\n",
    "no_nones_lat = list(filter(lambda brewery: brewery['latitude'] != None, brewery_list))\n",
    "list_lat = list(map(lambda brewery: float(brewery['latitude']), no_nones_lat))\n",
    "\n",
    "locations = list(zip(list_lat, list_long))\n",
    "\n",
    "distances = []\n",
    "for i in range(0,len(locations)):\n",
    "# shortest distance btw. 2 points: sqrt((x2 - x1)^2 + (y2 - y1)^2)\n",
    "    new = (math.sqrt((my_x - locations[i][0])**2 + (my_y - locations[i][1])**2))\n",
    "    distances.append(new)\n",
    "\n",
    "index = distances.index(sorted(distances)[1])\n",
    "closest = (list(filter(lambda brewery: brewery['latitude'] == str(locations[index][0]) \\\n",
    "            and brewery['longitude'] == str(locations[index][1]), brewery_list))).pop()\n",
    "closest['name']"
   ]
  },
  {
   "cell_type": "markdown",
   "metadata": {},
   "source": [
    "### Q6: Write a function to find the closest brewery to any other given brewery"
   ]
  },
  {
   "cell_type": "code",
   "execution_count": 298,
   "metadata": {},
   "outputs": [],
   "source": [
    "def closest_brewery(brewery_here):\n",
    "    import math\n",
    "    \n",
    "    interest = list(filter(lambda brewery: brewery['name'] == brewery_here, brewery_list)).pop()\n",
    "    my_y = float(interest['longitude'])\n",
    "    my_x = float(interest['latitude'])\n",
    "\n",
    "    no_nones_long = list(filter(lambda brewery: brewery['longitude'] != None, brewery_list))\n",
    "    list_long = list(map(lambda brewery: float(brewery['longitude']), no_nones_long))\n",
    "\n",
    "    no_nones_lat = list(filter(lambda brewery: brewery['latitude'] != None, brewery_list))\n",
    "    list_lat = list(map(lambda brewery: float(brewery['latitude']), no_nones_lat))\n",
    "\n",
    "    locations = list(zip(list_lat, list_long))\n",
    "\n",
    "    distances = []\n",
    "    for i in range(0,len(locations)):\n",
    "    # shortest distance btw. 2 points: sqrt((x2 - x1)^2 + (y2 - y1)^2)\n",
    "        new = (math.sqrt((my_x - locations[i][0])**2 + (my_y - locations[i][1])**2))\n",
    "        distances.append(new)\n",
    "\n",
    "    index = distances.index(sorted(distances)[1])\n",
    "    closest = (list(filter(lambda brewery: brewery['latitude'] == str(locations[index][0]) \\\n",
    "            and brewery['longitude'] == str(locations[index][1]), brewery_list))).pop()\n",
    "    return closest['name']\n",
    "    \n",
    "    \n",
    "    "
   ]
  },
  {
   "cell_type": "code",
   "execution_count": 299,
   "metadata": {},
   "outputs": [
    {
     "data": {
      "text/plain": [
       "'Port Brewing Co / The Lost Abbey'"
      ]
     },
     "execution_count": 299,
     "metadata": {},
     "output_type": "execute_result"
    }
   ],
   "source": [
    "closest_brewery(\"Devil's Potion Brewing Company LLC\" )"
   ]
  },
  {
   "cell_type": "markdown",
   "metadata": {},
   "source": [
    "### Q7: How would you get the first 10 pages from this API and put them all together using a for loop?"
   ]
  },
  {
   "cell_type": "code",
   "execution_count": 304,
   "metadata": {},
   "outputs": [
    {
     "data": {
      "text/plain": [
       "500"
      ]
     },
     "execution_count": 304,
     "metadata": {},
     "output_type": "execute_result"
    }
   ],
   "source": [
    "import json\n",
    "import requests\n",
    "\n",
    "page = list(range(1,11))\n",
    "API = []\n",
    "for i in range(0,10):\n",
    "    url = 'https://api.openbrewerydb.org/breweries?page={number}&per_page=50'.format(number \\\n",
    "                                                                                     = page[i])\n",
    "    API += requests.get(url).json() #outputs list of dictionaries\n",
    "len(API)"
   ]
  },
  {
   "cell_type": "markdown",
   "metadata": {},
   "source": [
    "# Crime in the UK"
   ]
  },
  {
   "cell_type": "markdown",
   "metadata": {},
   "source": [
    "### We will be analyzing different crimes reported in the UK as provided by https://data.police.uk/docs/"
   ]
  },
  {
   "cell_type": "markdown",
   "metadata": {},
   "source": [
    "# Exploratory analysis\n",
    "##### 1. How many total crimes were there at latitude : 52.63902 and -1.131321 on November of 2017.\n",
    "Use the street level crimes data, the documentation for the API can be found at https://data.police.uk/docs/method/crime-street/"
   ]
  },
  {
   "cell_type": "code",
   "execution_count": 305,
   "metadata": {},
   "outputs": [
    {
     "data": {
      "text/plain": [
       "1334"
      ]
     },
     "execution_count": 305,
     "metadata": {},
     "output_type": "execute_result"
    }
   ],
   "source": [
    "import json\n",
    "import requests\n",
    "\n",
    "UK = 'https://data.police.uk/api/crimes-street/all-crime?lat=52.63902&lng=-1.131321&date=2017-11'\n",
    "UK_api = requests.get(UK).json()\n",
    "len(UK_api)\n"
   ]
  },
  {
   "cell_type": "markdown",
   "metadata": {},
   "source": [
    "##### 2. We've queried the API once, but it could get annoying to retype the url over and over again, create a function `make_api_request` that enables you to query the API.\n",
    "\n",
    "\n",
    " The parameters for the function should be:\n",
    "* lat (float) : latitude\n",
    "* lng (float) : longitude\n",
    "* date (string): Date in the format YYYY-MM\n",
    "    * default value = `None`\n",
    "    \n",
    "And it should return a json object of \n",
    "\n",
    "for more information on default values check out http://blog.thedigitalcatonline.com/blog/2015/02/11/default-arguments-in-python/"
   ]
  },
  {
   "cell_type": "code",
   "execution_count": 306,
   "metadata": {},
   "outputs": [],
   "source": [
    "def make_api_request(lat, lng, date = None):\n",
    "    if date != None:\n",
    "        UK = 'https://data.police.uk/api/crimes-street/all-crime?lat={lat}&lng={lng}1&date={date}'.format(lat = lat, lng = lng, date = date)\n",
    "        return requests.get(UK).json()\n",
    "    else:\n",
    "        UK = 'https://data.police.uk/api/crimes-street/all-crime?lat={lat}&lng={lng}1'.format(lat = lat, lng = lng)\n",
    "        return requests.get(UK).json()\n",
    "\n",
    "\n",
    "    \n",
    "    "
   ]
  },
  {
   "cell_type": "code",
   "execution_count": 375,
   "metadata": {},
   "outputs": [],
   "source": [
    "make_api_request(52.63902,-1.131321);\n"
   ]
  },
  {
   "cell_type": "code",
   "execution_count": 308,
   "metadata": {},
   "outputs": [
    {
     "data": {
      "text/plain": [
       "'anti-social-behaviour'"
      ]
     },
     "execution_count": 308,
     "metadata": {},
     "output_type": "execute_result"
    }
   ],
   "source": [
    "crime[0]['category']"
   ]
  },
  {
   "cell_type": "markdown",
   "metadata": {},
   "source": [
    "##### 3. Write a function `categories_of_crime` that will determine the count of each type of crime for a given latitude and longitude. This is labelled as 'category' in the records. Your function should call the `make_api_request` function you created.\n",
    "\n",
    "The parameters for the function should be:\n",
    "\n",
    "* lat (float) : latitude\n",
    "* lng (float) : longitude\n",
    "* date (str) default = None\n",
    "\n",
    "The function should return:\n",
    "* a dictionary with the count of each type of crime\n",
    "\n",
    "\n",
    "\n",
    "Once you've created the function, try it with these locations\n",
    "* lat, lng of 51.5017861,-0.1432319   (Buckingham Palace)\n",
    "* lat, lng of 53.480161, -2.245163     (Manchester)"
   ]
  },
  {
   "cell_type": "code",
   "execution_count": 320,
   "metadata": {},
   "outputs": [],
   "source": [
    "def categories_of_crime(lat, lng, date = None):\n",
    "    crimes = make_api_request(lat, lng, date = None)\n",
    "    categories = (list(map(lambda crime: crime['category'], crimes)))\n",
    "    crimes_unique = set(categories)\n",
    "    crimes_u = dict.fromkeys(crimes_unique, 0)\n",
    "    for category in categories:\n",
    "        crimes_u[category] += 1\n",
    "    return crimes_u\n"
   ]
  },
  {
   "cell_type": "code",
   "execution_count": 321,
   "metadata": {},
   "outputs": [
    {
     "data": {
      "text/plain": [
       "{'robbery': 141,\n",
       " 'criminal-damage-arson': 82,\n",
       " 'other-theft': 810,\n",
       " 'violent-crime': 553,\n",
       " 'possession-of-weapons': 26,\n",
       " 'vehicle-crime': 102,\n",
       " 'public-order': 174,\n",
       " 'shoplifting': 329,\n",
       " 'drugs': 74,\n",
       " 'other-crime': 22,\n",
       " 'bicycle-theft': 65,\n",
       " 'theft-from-the-person': 586,\n",
       " 'anti-social-behaviour': 608,\n",
       " 'burglary': 138}"
      ]
     },
     "execution_count": 321,
     "metadata": {},
     "output_type": "execute_result"
    }
   ],
   "source": [
    "categories_of_crime(51.5017861,-0.1432319)"
   ]
  },
  {
   "cell_type": "code",
   "execution_count": 322,
   "metadata": {},
   "outputs": [
    {
     "data": {
      "text/plain": [
       "{'robbery': 134,\n",
       " 'criminal-damage-arson': 132,\n",
       " 'other-theft': 357,\n",
       " 'violent-crime': 607,\n",
       " 'possession-of-weapons': 25,\n",
       " 'vehicle-crime': 284,\n",
       " 'public-order': 289,\n",
       " 'shoplifting': 159,\n",
       " 'drugs': 42,\n",
       " 'other-crime': 25,\n",
       " 'bicycle-theft': 86,\n",
       " 'theft-from-the-person': 321,\n",
       " 'anti-social-behaviour': 422,\n",
       " 'burglary': 95}"
      ]
     },
     "execution_count": 322,
     "metadata": {},
     "output_type": "execute_result"
    }
   ],
   "source": [
    "categories_of_crime(53.480161,-2.245163)"
   ]
  },
  {
   "cell_type": "markdown",
   "metadata": {},
   "source": [
    "**Bonus**: \n",
    "* Write a function that determines the difference between Buckingham Palace and Manchester in terms of the number of crimes in each category.\n",
    "    * In which category is there the largest absolute difference between the category of crime?\n",
    "* Create a histogram depiction of the categories of crime"
   ]
  },
  {
   "cell_type": "code",
   "execution_count": 369,
   "metadata": {},
   "outputs": [
    {
     "data": {
      "text/plain": [
       "{'robbery': 7,\n",
       " 'criminal-damage-arson': 50,\n",
       " 'other-theft': 453,\n",
       " 'violent-crime': 54,\n",
       " 'possession-of-weapons': 1,\n",
       " 'vehicle-crime': 182,\n",
       " 'public-order': 115,\n",
       " 'shoplifting': 170,\n",
       " 'drugs': 32,\n",
       " 'other-crime': 3,\n",
       " 'bicycle-theft': 21,\n",
       " 'theft-from-the-person': 265,\n",
       " 'anti-social-behaviour': 186,\n",
       " 'burglary': 43}"
      ]
     },
     "execution_count": 369,
     "metadata": {},
     "output_type": "execute_result"
    }
   ],
   "source": [
    "def most_crimes():\n",
    "    manchester_crimes_dict = categories_of_crime(53.480161,-2.245163) \n",
    "    buckingham_crimes_dict = categories_of_crime(51.5017861,-0.1432319)\n",
    "    global crime_list\n",
    "    crime_list = list(manchester_crimes_dict.keys())\n",
    "    m = list(manchester_crimes_dict.values())\n",
    "    b = list(buckingham_crimes_dict.values())\n",
    "    zipped = list(zip(m,b))\n",
    "    counts = list(map(lambda tup: tup[0] - tup[1],zipped))\n",
    "    global abs_count\n",
    "    abs_count = list(map(lambda count: abs(count), counts))\n",
    "    return dict(zip(crime_list,abs_count))\n",
    "most_crimes()"
   ]
  },
  {
   "cell_type": "code",
   "execution_count": 371,
   "metadata": {},
   "outputs": [
    {
     "name": "stdout",
     "output_type": "stream",
     "text": [
      "Requirement already satisfied: plotly in /Users/PB/anaconda3/lib/python3.7/site-packages (3.3.0)\n",
      "Requirement already satisfied: requests in /Users/PB/anaconda3/lib/python3.7/site-packages (from plotly) (2.19.1)\n",
      "Requirement already satisfied: nbformat>=4.2 in /Users/PB/anaconda3/lib/python3.7/site-packages (from plotly) (4.4.0)\n",
      "Requirement already satisfied: six in /Users/PB/anaconda3/lib/python3.7/site-packages (from plotly) (1.11.0)\n",
      "Requirement already satisfied: retrying>=1.3.3 in /Users/PB/anaconda3/lib/python3.7/site-packages (from plotly) (1.3.3)\n",
      "Requirement already satisfied: pytz in /Users/PB/anaconda3/lib/python3.7/site-packages (from plotly) (2018.5)\n",
      "Requirement already satisfied: decorator>=4.0.6 in /Users/PB/anaconda3/lib/python3.7/site-packages (from plotly) (4.3.0)\n",
      "Requirement already satisfied: chardet<3.1.0,>=3.0.2 in /Users/PB/anaconda3/lib/python3.7/site-packages (from requests->plotly) (3.0.4)\n",
      "Requirement already satisfied: certifi>=2017.4.17 in /Users/PB/anaconda3/lib/python3.7/site-packages (from requests->plotly) (2018.8.24)\n",
      "Requirement already satisfied: urllib3<1.24,>=1.21.1 in /Users/PB/anaconda3/lib/python3.7/site-packages (from requests->plotly) (1.23)\n",
      "Requirement already satisfied: idna<2.8,>=2.5 in /Users/PB/anaconda3/lib/python3.7/site-packages (from requests->plotly) (2.7)\n",
      "Requirement already satisfied: ipython-genutils in /Users/PB/anaconda3/lib/python3.7/site-packages (from nbformat>=4.2->plotly) (0.2.0)\n",
      "Requirement already satisfied: traitlets>=4.1 in /Users/PB/anaconda3/lib/python3.7/site-packages (from nbformat>=4.2->plotly) (4.3.2)\n",
      "Requirement already satisfied: jsonschema!=2.5.0,>=2.4 in /Users/PB/anaconda3/lib/python3.7/site-packages (from nbformat>=4.2->plotly) (2.6.0)\n",
      "Requirement already satisfied: jupyter-core in /Users/PB/anaconda3/lib/python3.7/site-packages (from nbformat>=4.2->plotly) (4.4.0)\n"
     ]
    }
   ],
   "source": [
    "!pip install plotly\n",
    "import plotly.graph_objs"
   ]
  },
  {
   "cell_type": "code",
   "execution_count": 372,
   "metadata": {},
   "outputs": [
    {
     "data": {
      "text/html": [
       "<script>requirejs.config({paths: { 'plotly': ['https://cdn.plot.ly/plotly-latest.min']},});if(!window.Plotly) {{require(['plotly'],function(plotly) {window.Plotly=plotly;});}}</script>"
      ],
      "text/vnd.plotly.v1+html": [
       "<script>requirejs.config({paths: { 'plotly': ['https://cdn.plot.ly/plotly-latest.min']},});if(!window.Plotly) {{require(['plotly'],function(plotly) {window.Plotly=plotly;});}}</script>"
      ]
     },
     "metadata": {},
     "output_type": "display_data"
    },
    {
     "data": {
      "application/vnd.plotly.v1+json": {
       "data": [
        {
         "type": "bar",
         "uid": "e9a558c2-d8c4-11e8-8f6e-60f81db8add8",
         "x": [
          "robbery",
          "criminal-damage-arson",
          "other-theft",
          "violent-crime",
          "possession-of-weapons",
          "vehicle-crime",
          "public-order",
          "shoplifting",
          "drugs",
          "other-crime",
          "bicycle-theft",
          "theft-from-the-person",
          "anti-social-behaviour",
          "burglary"
         ],
         "y": [
          7,
          50,
          453,
          54,
          1,
          182,
          115,
          170,
          32,
          3,
          21,
          265,
          186,
          43
         ]
        }
       ],
       "layout": {
        "title": "Difference btw. Manchester and Buckingham Palace Crime Category Count"
       }
      },
      "text/html": [
       "<div id=\"f73074f8-67c7-4da5-8781-b4a1d37ddd04\" style=\"height: 525px; width: 100%;\" class=\"plotly-graph-div\"></div><script type=\"text/javascript\">require([\"plotly\"], function(Plotly) { window.PLOTLYENV=window.PLOTLYENV || {};window.PLOTLYENV.BASE_URL=\"https://plot.ly\";Plotly.newPlot(\"f73074f8-67c7-4da5-8781-b4a1d37ddd04\", [{\"x\": [\"robbery\", \"criminal-damage-arson\", \"other-theft\", \"violent-crime\", \"possession-of-weapons\", \"vehicle-crime\", \"public-order\", \"shoplifting\", \"drugs\", \"other-crime\", \"bicycle-theft\", \"theft-from-the-person\", \"anti-social-behaviour\", \"burglary\"], \"y\": [7, 50, 453, 54, 1, 182, 115, 170, 32, 3, 21, 265, 186, 43], \"type\": \"bar\", \"uid\": \"e9ec7b94-d8c4-11e8-8f6e-60f81db8add8\"}], {\"title\": \"Difference btw. Manchester and Buckingham Palace Crime Category Count\"}, {\"showLink\": true, \"linkText\": \"Export to plot.ly\"})});</script>"
      ],
      "text/vnd.plotly.v1+html": [
       "<div id=\"f73074f8-67c7-4da5-8781-b4a1d37ddd04\" style=\"height: 525px; width: 100%;\" class=\"plotly-graph-div\"></div><script type=\"text/javascript\">require([\"plotly\"], function(Plotly) { window.PLOTLYENV=window.PLOTLYENV || {};window.PLOTLYENV.BASE_URL=\"https://plot.ly\";Plotly.newPlot(\"f73074f8-67c7-4da5-8781-b4a1d37ddd04\", [{\"x\": [\"robbery\", \"criminal-damage-arson\", \"other-theft\", \"violent-crime\", \"possession-of-weapons\", \"vehicle-crime\", \"public-order\", \"shoplifting\", \"drugs\", \"other-crime\", \"bicycle-theft\", \"theft-from-the-person\", \"anti-social-behaviour\", \"burglary\"], \"y\": [7, 50, 453, 54, 1, 182, 115, 170, 32, 3, 21, 265, 186, 43], \"type\": \"bar\", \"uid\": \"e9ec7b94-d8c4-11e8-8f6e-60f81db8add8\"}], {\"title\": \"Difference btw. Manchester and Buckingham Palace Crime Category Count\"}, {\"showLink\": true, \"linkText\": \"Export to plot.ly\"})});</script>"
      ]
     },
     "metadata": {},
     "output_type": "display_data"
    }
   ],
   "source": [
    "from plotly.offline import iplot, init_notebook_mode\n",
    "init_notebook_mode(connected=True)\n",
    "\n",
    "trace = {'type': 'bar', 'x' : crime_list, 'y' : abs_count}\n",
    "layout = {'title' : 'Difference btw. Manchester and Buckingham Palace Crime Category Count'}\n",
    "\n",
    "figure = {'data':[trace], 'layout':layout}\n",
    "plotly.offline.iplot(figure)"
   ]
  },
  {
   "cell_type": "markdown",
   "metadata": {},
   "source": [
    "##### 4. Create a function `find_outcome_statuses` that will determine outcome statuses for a given latitude and longitude and date (optional)?\n",
    "Investigate the data to determine where the outcome statuses are located.\n",
    "\n",
    "**NOTE**: You'll notice that some of these crimes do not have crime outcomes. Make these into the category of \"Not Resolved.\"\n",
    "\n",
    "**NOTE 2**: These might take a long time to execute if you do not specify a month\n",
    "\n",
    "**Bonus**: What is the ratio of crimes investigated to those not investigated? Is it higher near London or Manchester?"
   ]
  },
  {
   "cell_type": "code",
   "execution_count": null,
   "metadata": {},
   "outputs": [],
   "source": [
    "\n"
   ]
  },
  {
   "cell_type": "markdown",
   "metadata": {},
   "source": [
    "##### 5. Write a function `month_highest_crimes` that will return the month that had the highest number of crimes for a latitude, longitude and a year.\n",
    "\n",
    "Inputs\n",
    "* lat (float) : latitude\n",
    "* lng (float) : longitude\n",
    "* year (str) : in the format YYYY\n",
    "\n",
    "Output\n",
    "* month with highest crime (int)\n",
    "\n",
    "**Bonus** Make a graph of how the number of crimes changed over time for a year. This will likely require a new function. Is seasonality a factor? Do the type of crimes change over time?"
   ]
  },
  {
   "cell_type": "code",
   "execution_count": null,
   "metadata": {},
   "outputs": [],
   "source": [
    "\n"
   ]
  },
  {
   "cell_type": "markdown",
   "metadata": {},
   "source": [
    "### Bonus Open Ended Questions\n",
    "\n",
    "1. Take a look at the https://data.police.uk/docs/method/stops-street/ API. Is there a correlation between gender and being stopped and searched? How about race and being stopped and searched?"
   ]
  },
  {
   "cell_type": "code",
   "execution_count": null,
   "metadata": {},
   "outputs": [],
   "source": [
    "\n"
   ]
  }
 ],
 "metadata": {
  "kernelspec": {
   "display_name": "Python 3",
   "language": "python",
   "name": "python3"
  },
  "language_info": {
   "codemirror_mode": {
    "name": "ipython",
    "version": 3
   },
   "file_extension": ".py",
   "mimetype": "text/x-python",
   "name": "python",
   "nbconvert_exporter": "python",
   "pygments_lexer": "ipython3",
   "version": "3.7.0"
  }
 },
 "nbformat": 4,
 "nbformat_minor": 2
}
